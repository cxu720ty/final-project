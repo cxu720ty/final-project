{
 "cells": [
  {
   "cell_type": "markdown",
   "id": "c92b734d-95dc-4ed3-a4cf-d606ede6b04e",
   "metadata": {},
   "source": [
    "## Results\n",
    "It seems that the **Wolfgang Reitherman** is very productive"
   ]
  },
  {
   "cell_type": "markdown",
   "id": "785c53c9-2f60-4134-9fe7-f0ae2eea027c",
   "metadata": {},
   "source": [
    "![result](../result.png)"
   ]
  },
  {
   "cell_type": "markdown",
   "id": "19759cd4-3026-48e8-8fb2-89913858e649",
   "metadata": {},
   "source": [
    "Now it's time to answer the original question. Which directors have the most inflation gross of average of each movie? To do this, I will make a new dataframe by merging **avg_inflation_gross_by_director** and **movie_count**"
   ]
  },
  {
   "cell_type": "markdown",
   "id": "bbee4251-2b8d-4cbc-9179-ef3126d12d92",
   "metadata": {},
   "source": [
    "director_count_gross = avg_inflation_gross_by_director.merge(movie_count, left_on='director', right_on='director', how='left', indicator=True)\n",
    "director_count_gross  =director_count_gross.assign(director_avg_gross_per_movie=director_count_gross['inflation_adjusted_gross'] *director_count_gross['count'])\n",
    "director_count_gross\n",
    "\n",
    "#director_count_gross_max = director_count_gross['director_avg_gross_per_movie'].max()\n",
    "director_count_gross_max=director_count_gross.loc[director_count_gross['director_avg_gross_per_movie'] == director_count_gross['director_avg_gross_per_movie'].max()]\n",
    "director_count_gross_max"
   ]
  },
  {
   "cell_type": "markdown",
   "id": "764b7093-eebf-44fe-b7e0-a9210495d2a5",
   "metadata": {},
   "source": [
    "It seems that in fact it is **Davied Hand** has max average inflation gross per movie. "
   ]
  },
  {
   "cell_type": "code",
   "execution_count": null,
   "id": "8a1f436f-f7a8-421d-a50e-4ad21ae306a4",
   "metadata": {},
   "outputs": [],
   "source": [
    "we can take a look at the chart of each director's inflation gross. "
   ]
  },
  {
   "cell_type": "code",
   "execution_count": null,
   "id": "62256054-7c26-4fe4-816d-da68b94848f3",
   "metadata": {},
   "outputs": [],
   "source": [
    "# Visualize the top 20 themes with the most sets using a bar plot.\n",
    "director_count_gross_plot = (\n",
    "    alt.Chart(director_count_gross, width=500, height=300)\n",
    "    .mark_bar()\n",
    "    .encode(\n",
    "        x=alt.X(\"director:N\", title=\"Directors\", sort=\"-y\"),\n",
    "        y=alt.Y(\"director_avg_gross_per_movie:Q\", title=\"Inflation per Movie\"),\n",
    "    )\n",
    "    .properties(title=\"Director Average per Movie (Adjusted for Inflation)\")\n",
    ")\n",
    "director_count_gross_plot"
   ]
  }
 ],
 "metadata": {
  "kernelspec": {
   "display_name": "Python 3 (ipykernel)",
   "language": "python",
   "name": "python3"
  },
  "language_info": {
   "codemirror_mode": {
    "name": "ipython",
    "version": 3
   },
   "file_extension": ".py",
   "mimetype": "text/x-python",
   "name": "python",
   "nbconvert_exporter": "python",
   "pygments_lexer": "ipython3",
   "version": "3.9.13"
  }
 },
 "nbformat": 4,
 "nbformat_minor": 5
}
