{
 "cells": [
  {
   "cell_type": "markdown",
   "metadata": {},
   "source": [
    "## Results\n",
    "It seems that the **Wolfgang Reitherman** is very productive"
   ]
  },
  {
   "cell_type": "markdown",
   "metadata": {},
   "source": [
    "![result](../result.png)"
   ]
  },
  {
   "cell_type": "markdown",
   "metadata": {},
   "source": [
    "Now it's time to answer the original question. Which directors have the most inflation gross of average of each movie? To do this, I will make a new dataframe by merging **avg_inflation_gross_by_director** and **movie_count**"
   ]
  },
  {
   "cell_type": "code",
   "execution_count": null,
   "metadata": {},
   "outputs": [],
   "source": [
    "# Lets import all the required libraries needed for this analysis\n",
    "import altair as alt\n",
    "import pandas as pd\n",
    "import numpy as np\n",
    "# import all the required files\n",
    "total_gross = pd.read_csv(\"data/disney_movies_total_gross.csv\")\n",
    "movie_director = pd.read_csv(\"data/disney-director.csv\")\n",
    "# import the custom script"
   ]
  },
  {
   "cell_type": "code",
   "execution_count": 63,
   "metadata": {},
   "outputs": [
    {
     "data": {
      "text/html": [
       "<div>\n",
       "<style scoped>\n",
       "    .dataframe tbody tr th:only-of-type {\n",
       "        vertical-align: middle;\n",
       "    }\n",
       "\n",
       "    .dataframe tbody tr th {\n",
       "        vertical-align: top;\n",
       "    }\n",
       "\n",
       "    .dataframe thead th {\n",
       "        text-align: right;\n",
       "    }\n",
       "</style>\n",
       "<table border=\"1\" class=\"dataframe\">\n",
       "  <thead>\n",
       "    <tr style=\"text-align: right;\">\n",
       "      <th></th>\n",
       "      <th>director</th>\n",
       "      <th>inflation_adjusted_gross</th>\n",
       "      <th>count</th>\n",
       "      <th>_merge</th>\n",
       "      <th>director_avg_gross_per_movie</th>\n",
       "    </tr>\n",
       "  </thead>\n",
       "  <tbody>\n",
       "    <tr>\n",
       "      <th>8</th>\n",
       "      <td>David Hand</td>\n",
       "      <td>5.228953e+09</td>\n",
       "      <td>1</td>\n",
       "      <td>both</td>\n",
       "      <td>5.228953e+09</td>\n",
       "    </tr>\n",
       "  </tbody>\n",
       "</table>\n",
       "</div>"
      ],
      "text/plain": [
       "     director  inflation_adjusted_gross  count _merge  \\\n",
       "8  David Hand              5.228953e+09      1   both   \n",
       "\n",
       "   director_avg_gross_per_movie  \n",
       "8                  5.228953e+09  "
      ]
     },
     "execution_count": 63,
     "metadata": {},
     "output_type": "execute_result"
    }
   ],
   "source": [
    "director_count_gross = avg_inflation_gross_by_director.merge(movie_count, left_on='director', right_on='director', how='left', indicator=True)\n",
    "director_count_gross  =director_count_gross.assign(director_avg_gross_per_movie=director_count_gross['inflation_adjusted_gross'] *director_count_gross['count'])\n",
    "director_count_gross\n",
    "\n",
    "#director_count_gross_max = director_count_gross['director_avg_gross_per_movie'].max()\n",
    "director_count_gross_max=director_count_gross.loc[director_count_gross['director_avg_gross_per_movie'] == director_count_gross['director_avg_gross_per_movie'].max()]\n",
    "director_count_gross_max"
   ]
  },
  {
   "cell_type": "markdown",
   "metadata": {},
   "source": [
    "It seems that in fact it is **Davied Hand** has max average inflation gross per movie. "
   ]
  },
  {
   "cell_type": "markdown",
   "metadata": {},
   "source": [
    "![result](../davidhand.png)"
   ]
  },
  {
   "cell_type": "markdown",
   "metadata": {},
   "source": [
    "we can take a look at the chart of each director's inflation gross. "
   ]
  },
  {
   "cell_type": "code",
   "execution_count": 64,
   "metadata": {},
   "outputs": [
    {
     "data": {
      "text/html": [
       "\n",
       "<div id=\"altair-viz-9259016a3dd4435d8d3d907d31fd9779\"></div>\n",
       "<script type=\"text/javascript\">\n",
       "  (function(spec, embedOpt){\n",
       "    let outputDiv = document.currentScript.previousElementSibling;\n",
       "    if (outputDiv.id !== \"altair-viz-9259016a3dd4435d8d3d907d31fd9779\") {\n",
       "      outputDiv = document.getElementById(\"altair-viz-9259016a3dd4435d8d3d907d31fd9779\");\n",
       "    }\n",
       "    const paths = {\n",
       "      \"vega\": \"https://cdn.jsdelivr.net/npm//vega@5?noext\",\n",
       "      \"vega-lib\": \"https://cdn.jsdelivr.net/npm//vega-lib?noext\",\n",
       "      \"vega-lite\": \"https://cdn.jsdelivr.net/npm//vega-lite@4.8.1?noext\",\n",
       "      \"vega-embed\": \"https://cdn.jsdelivr.net/npm//vega-embed@6?noext\",\n",
       "    };\n",
       "\n",
       "    function loadScript(lib) {\n",
       "      return new Promise(function(resolve, reject) {\n",
       "        var s = document.createElement('script');\n",
       "        s.src = paths[lib];\n",
       "        s.async = true;\n",
       "        s.onload = () => resolve(paths[lib]);\n",
       "        s.onerror = () => reject(`Error loading script: ${paths[lib]}`);\n",
       "        document.getElementsByTagName(\"head\")[0].appendChild(s);\n",
       "      });\n",
       "    }\n",
       "\n",
       "    function showError(err) {\n",
       "      outputDiv.innerHTML = `<div class=\"error\" style=\"color:red;\">${err}</div>`;\n",
       "      throw err;\n",
       "    }\n",
       "\n",
       "    function displayChart(vegaEmbed) {\n",
       "      vegaEmbed(outputDiv, spec, embedOpt)\n",
       "        .catch(err => showError(`Javascript Error: ${err.message}<br>This usually means there's a typo in your chart specification. See the javascript console for the full traceback.`));\n",
       "    }\n",
       "\n",
       "    if(typeof define === \"function\" && define.amd) {\n",
       "      requirejs.config({paths});\n",
       "      require([\"vega-embed\"], displayChart, err => showError(`Error loading script: ${err.message}`));\n",
       "    } else if (typeof vegaEmbed === \"function\") {\n",
       "      displayChart(vegaEmbed);\n",
       "    } else {\n",
       "      loadScript(\"vega\")\n",
       "        .then(() => loadScript(\"vega-lite\"))\n",
       "        .then(() => loadScript(\"vega-embed\"))\n",
       "        .catch(showError)\n",
       "        .then(() => displayChart(vegaEmbed));\n",
       "    }\n",
       "  })({\"config\": {\"view\": {\"continuousWidth\": 400, \"continuousHeight\": 300}}, \"data\": {\"name\": \"data-0000d141ec04850e7b19aa31c1845847\"}, \"mark\": \"bar\", \"encoding\": {\"x\": {\"type\": \"nominal\", \"field\": \"director\", \"sort\": \"-y\", \"title\": \"Directors\"}, \"y\": {\"type\": \"quantitative\", \"field\": \"director_avg_gross_per_movie\", \"title\": \"Inflation per Movie\"}}, \"height\": 300, \"title\": \"Director Average per Movie (Adjusted for Inflation)\", \"width\": 500, \"$schema\": \"https://vega.github.io/schema/vega-lite/v4.8.1.json\", \"datasets\": {\"data-0000d141ec04850e7b19aa31c1845847\": [{\"director\": \"Art Stevens\", \"inflation_adjusted_gross\": 133118889.0, \"count\": 1, \"_merge\": \"both\", \"director_avg_gross_per_movie\": 133118889.0}, {\"director\": \"Barry Cook\", \"inflation_adjusted_gross\": 216807832.0, \"count\": 1, \"_merge\": \"both\", \"director_avg_gross_per_movie\": 216807832.0}, {\"director\": \"Ben Sharpsteen\", \"inflation_adjusted_gross\": 2188229052.0, \"count\": 1, \"_merge\": \"both\", \"director_avg_gross_per_movie\": 2188229052.0}, {\"director\": \"Byron Howard\", \"inflation_adjusted_gross\": 341268248.0, \"count\": 1, \"_merge\": \"both\", \"director_avg_gross_per_movie\": 341268248.0}, {\"director\": \"Chris Buck\", \"inflation_adjusted_gross\": 349448714.0, \"count\": 2, \"_merge\": \"both\", \"director_avg_gross_per_movie\": 698897428.0}, {\"director\": \"Chris Sanders\", \"inflation_adjusted_gross\": 211506702.0, \"count\": 1, \"_merge\": \"both\", \"director_avg_gross_per_movie\": 211506702.0}, {\"director\": \"Chris Williams\", \"inflation_adjusted_gross\": 133702498.0, \"count\": 1, \"_merge\": \"both\", \"director_avg_gross_per_movie\": 133702498.0}, {\"director\": \"Clyde Geronimi\", \"inflation_adjusted_gross\": 189284665.5, \"count\": 2, \"_merge\": \"both\", \"director_avg_gross_per_movie\": 378569331.0}, {\"director\": \"David Hand\", \"inflation_adjusted_gross\": 5228953251.0, \"count\": 1, \"_merge\": \"both\", \"director_avg_gross_per_movie\": 5228953251.0}, {\"director\": \"Don Hall\", \"inflation_adjusted_gross\": 229249222.0, \"count\": 1, \"_merge\": \"both\", \"director_avg_gross_per_movie\": 229249222.0}, {\"director\": \"Gary Trousdale\", \"inflation_adjusted_gross\": 226398196.0, \"count\": 3, \"_merge\": \"both\", \"director_avg_gross_per_movie\": 679194588.0}, {\"director\": \"George Scribner\", \"inflation_adjusted_gross\": 102254492.0, \"count\": 1, \"_merge\": \"both\", \"director_avg_gross_per_movie\": 102254492.0}, {\"director\": \"Hamilton Luske\", \"inflation_adjusted_gross\": 1236035515.0, \"count\": 1, \"_merge\": \"both\", \"director_avg_gross_per_movie\": 1236035515.0}, {\"director\": \"Mark Dindal\", \"inflation_adjusted_gross\": 157371956.5, \"count\": 2, \"_merge\": \"both\", \"director_avg_gross_per_movie\": 314743913.0}, {\"director\": \"Mike Gabriel\", \"inflation_adjusted_gross\": 165083842.5, \"count\": 2, \"_merge\": \"both\", \"director_avg_gross_per_movie\": 330167685.0}, {\"director\": \"Nathan Greno\", \"inflation_adjusted_gross\": 214388548.0, \"count\": 1, \"_merge\": \"both\", \"director_avg_gross_per_movie\": 214388548.0}, {\"director\": \"Ralph Zondag\", \"inflation_adjusted_gross\": 215438985.0, \"count\": 1, \"_merge\": \"both\", \"director_avg_gross_per_movie\": 215438985.0}, {\"director\": \"Rich Moore\", \"inflation_adjusted_gross\": 200354959.0, \"count\": 1, \"_merge\": \"both\", \"director_avg_gross_per_movie\": 200354959.0}, {\"director\": \"Robert Walker\", \"inflation_adjusted_gross\": 119218333.0, \"count\": 1, \"_merge\": \"both\", \"director_avg_gross_per_movie\": 119218333.0}, {\"director\": \"Roger Allers\", \"inflation_adjusted_gross\": 761640898.0, \"count\": 1, \"_merge\": \"both\", \"director_avg_gross_per_movie\": 761640898.0}, {\"director\": \"Ron Clements\", \"inflation_adjusted_gross\": 188421371.42857143, \"count\": 7, \"_merge\": \"both\", \"director_avg_gross_per_movie\": 1318949600.0}, {\"director\": \"Stephen J. Anderson\", \"inflation_adjusted_gross\": 74118229.0, \"count\": 2, \"_merge\": \"both\", \"director_avg_gross_per_movie\": 148236458.0}, {\"director\": \"Ted Berman\", \"inflation_adjusted_gross\": 50553142.0, \"count\": 1, \"_merge\": \"both\", \"director_avg_gross_per_movie\": 50553142.0}, {\"director\": \"Wilfred Jackson\", \"inflation_adjusted_gross\": 560880041.5, \"count\": 2, \"_merge\": \"both\", \"director_avg_gross_per_movie\": 1121760083.0}, {\"director\": \"Will Finn\", \"inflation_adjusted_gross\": 67910166.0, \"count\": 1, \"_merge\": \"both\", \"director_avg_gross_per_movie\": 67910166.0}, {\"director\": \"Wolfgang Reitherman\", \"inflation_adjusted_gross\": 381435546.6666667, \"count\": 9, \"_merge\": \"both\", \"director_avg_gross_per_movie\": 3432919920.0}, {\"director\": \"full credits\", \"inflation_adjusted_gross\": 2187090808.0, \"count\": 1, \"_merge\": \"both\", \"director_avg_gross_per_movie\": 2187090808.0}]}}, {\"mode\": \"vega-lite\"});\n",
       "</script>"
      ],
      "text/plain": [
       "alt.Chart(...)"
      ]
     },
     "execution_count": 64,
     "metadata": {},
     "output_type": "execute_result"
    }
   ],
   "source": [
    "# Visualize the top 20 themes with the most sets using a bar plot.\n",
    "director_count_gross_plot = (\n",
    "    alt.Chart(director_count_gross, width=500, height=300)\n",
    "    .mark_bar()\n",
    "    .encode(\n",
    "        x=alt.X(\"director:N\", title=\"Directors\", sort=\"-y\"),\n",
    "        y=alt.Y(\"director_avg_gross_per_movie:Q\", title=\"Inflation per Movie\"),\n",
    "    )\n",
    "    .properties(title=\"Director Average per Movie (Adjusted for Inflation)\")\n",
    ")\n",
    "director_count_gross_plot"
   ]
  }
 ],
 "metadata": {
  "kernelspec": {
   "display_name": "Python 3 (ipykernel)",
   "language": "python",
   "name": "python3"
  },
  "language_info": {
   "codemirror_mode": {
    "name": "ipython",
    "version": 3
   },
   "file_extension": ".py",
   "mimetype": "text/x-python",
   "name": "python",
   "nbconvert_exporter": "python",
   "pygments_lexer": "ipython3",
   "version": "3.9.13"
  }
 },
 "nbformat": 4,
 "nbformat_minor": 4
}
